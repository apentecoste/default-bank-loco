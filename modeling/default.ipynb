{
 "cells": [
  {
   "cell_type": "code",
   "execution_count": 53,
   "metadata": {
    "ExecuteTime": {
     "end_time": "2020-02-08T18:46:19.846879Z",
     "start_time": "2020-02-08T18:46:19.838613Z"
    }
   },
   "outputs": [],
   "source": [
    "import numpy as np\n",
    "import pandas as pd"
   ]
  },
  {
   "cell_type": "code",
   "execution_count": 54,
   "metadata": {
    "ExecuteTime": {
     "end_time": "2020-02-08T18:46:30.932625Z",
     "start_time": "2020-02-08T18:46:20.362452Z"
    }
   },
   "outputs": [],
   "source": [
    "default = pd.read_csv(\"/Users/arthur.pentecoste/Desktop/McGill/Cours McGill/Enterprise Analytics/FinalProject/BankruptcyLiquidation1015.csv\")\n",
    "default = default.iloc[:5000,:]\n",
    "pd.set_option('display.max_columns', None)"
   ]
  },
  {
   "cell_type": "code",
   "execution_count": null,
   "metadata": {
    "ExecuteTime": {
     "start_time": "2020-02-08T18:46:20.742Z"
    }
   },
   "outputs": [],
   "source": [
    "default"
   ]
  },
  {
   "cell_type": "code",
   "execution_count": 50,
   "metadata": {
    "ExecuteTime": {
     "end_time": "2020-02-08T17:57:46.556583Z",
     "start_time": "2020-02-08T17:57:46.432363Z"
    }
   },
   "outputs": [
    {
     "data": {
      "text/plain": [
       "count    4696.000000\n",
       "mean        0.144591\n",
       "std         0.359512\n",
       "min         0.000000\n",
       "25%         0.000000\n",
       "50%         0.000000\n",
       "75%         0.000000\n",
       "max         2.000000\n",
       "Name: dlrsn, dtype: float64"
      ]
     },
     "execution_count": 50,
     "metadata": {},
     "output_type": "execute_result"
    }
   ],
   "source": [
    "default[\"dlrsn\"] = default[\"dlrsn\"].fillna(0)\n",
    "default = default[default.dlrsn <= 2]\n",
    "default[\"dlrsn\"].describe()"
   ]
  },
  {
   "cell_type": "code",
   "execution_count": null,
   "metadata": {
    "ExecuteTime": {
     "start_time": "2020-02-08T17:57:47.664Z"
    }
   },
   "outputs": [],
   "source": [
    "default.fillna(0)"
   ]
  },
  {
   "cell_type": "code",
   "execution_count": null,
   "metadata": {
    "ExecuteTime": {
     "start_time": "2020-02-08T17:57:49.536Z"
    }
   },
   "outputs": [],
   "source": [
    "print(default.isnull().any())\n",
    "pd.set_option('display.max_rows', None)"
   ]
  },
  {
   "cell_type": "raw",
   "metadata": {},
   "source": [
    "correlated_features = []\n",
    "correlation_matrix = default.corr()\n",
    "\n",
    "for i in range(len(correlation_matrix.columns)):\n",
    "    for j in range(i):\n",
    "        if abs(correlation_matrix.iloc[i, j]) > 0.8:\n",
    "            colname = correlation_matrix.columns[j]\n",
    "            correlated_features.append(colname)\n",
    "            print(correlation_matrix.columns[i])\n",
    "            print(correlation_matrix.columns[j])\n",
    "correlation_matrix"
   ]
  },
  {
   "cell_type": "code",
   "execution_count": null,
   "metadata": {},
   "outputs": [],
   "source": [
    "y = default[\"dlrsn\"]\n",
    "X = default\n",
    "X=X.drop(columns=[\"dlrsn\"])"
   ]
  },
  {
   "cell_type": "code",
   "execution_count": null,
   "metadata": {},
   "outputs": [],
   "source": [
    "from sklearn.model_selection import train_test_split\n",
    "X_train,X_test,y_train,y_test = train_test_split(X,y,test_size=0.3,random_state=5)"
   ]
  },
  {
   "cell_type": "code",
   "execution_count": null,
   "metadata": {},
   "outputs": [],
   "source": [
    "from sklearn.linear_model import Lasso\n",
    "ls = Lasso(alpha=1000, positive = True,\n",
    "           #tol=5\n",
    "          )\n",
    "model = ls.fit(X_std,y)\n",
    "\n",
    "\n",
    "result_lasso = pd.DataFrame(list(zip(X.columns,model.coef_)),columns = ['predictor','coefficient'])\n",
    "result_lasso"
   ]
  }
 ],
 "metadata": {
  "kernelspec": {
   "display_name": "Python 3",
   "language": "python",
   "name": "python3"
  },
  "language_info": {
   "codemirror_mode": {
    "name": "ipython",
    "version": 3
   },
   "file_extension": ".py",
   "mimetype": "text/x-python",
   "name": "python",
   "nbconvert_exporter": "python",
   "pygments_lexer": "ipython3",
   "version": "3.7.4"
  }
 },
 "nbformat": 4,
 "nbformat_minor": 2
}
